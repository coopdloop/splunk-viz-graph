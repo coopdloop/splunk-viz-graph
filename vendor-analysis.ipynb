{
 "cells": [
  {
   "cell_type": "markdown",
   "metadata": {},
   "source": [
    "# Splunk Vendor Product Analysis\n",
    "\n",
    "This notebook provides a comprehensive tool for querying Splunk Enterprise indices to identify vendor products and perform gap coverage analysis.\n",
    "\n",
    "## Features\n",
    "- Multiple Splunk environment support (dev, staging, prod)\n",
    "- HEC token authentication\n",
    "- Custom SPL query generation\n",
    "- Interactive visualizations\n",
    "- Data export (CSV, JSON, HTML)\n",
    "- Vendor coverage gap analysis"
   ]
  },
  {
   "cell_type": "markdown",
   "metadata": {},
   "source": [
    "## 1. Configuration and Setup"
   ]
  },
  {
   "cell_type": "code",
   "execution_count": 1,
   "metadata": {},
   "outputs": [
    {
     "name": "stdout",
     "output_type": "stream",
     "text": [
      "✅ All libraries imported successfully\n"
     ]
    }
   ],
   "source": [
    "# Import required libraries\n",
    "import sys\n",
    "import os\n",
    "import json\n",
    "import pandas as pd\n",
    "import ipywidgets as widgets\n",
    "from IPython.display import display, HTML, clear_output\n",
    "import warnings\n",
    "warnings.filterwarnings('ignore')\n",
    "\n",
    "# Add src directory to path\n",
    "sys.path.append(os.path.join(os.getcwd(), 'src'))\n",
    "\n",
    "# Import our custom modules\n",
    "from splunk_client import SplunkHECClient\n",
    "from vendor_parser import VendorQueryBuilder\n",
    "from visualization import VendorVisualizer\n",
    "\n",
    "print(\"✅ All libraries imported successfully\")"
   ]
  },
  {
   "cell_type": "code",
   "execution_count": 2,
   "metadata": {},
   "outputs": [
    {
     "name": "stdout",
     "output_type": "stream",
     "text": [
      "✅ Configuration loaded successfully\n",
      "Available environments: ['docker_local', 'docker_localhost', 'enterprise_dev', 'enterprise_prod', 'cloud_splunk']\n"
     ]
    }
   ],
   "source": [
    "# Load configuration\n",
    "config_path = \"config/environments.json\"\n",
    "\n",
    "try:\n",
    "    with open(config_path, 'r') as f:\n",
    "        config = json.load(f)\n",
    "    print(\"✅ Configuration loaded successfully\")\n",
    "    print(f\"Available environments: {list(config['environments'].keys())}\")\n",
    "except FileNotFoundError:\n",
    "    print(\"❌ Configuration file not found. Please ensure config/environments.json exists.\")\n",
    "    config = None"
   ]
  },
  {
   "cell_type": "markdown",
   "metadata": {},
   "source": [
    "## 2. Environment Selection"
   ]
  },
  {
   "cell_type": "code",
   "execution_count": 3,
   "metadata": {},
   "outputs": [
    {
     "data": {
      "application/vnd.jupyter.widget-view+json": {
       "model_id": "5c887791bd4e4908b214741a87822fec",
       "version_major": 2,
       "version_minor": 0
      },
      "text/plain": [
       "Dropdown(description='Environment:', layout=Layout(width='300px'), options=(('Docker Local Splunk', 'docker_lo…"
      ]
     },
     "metadata": {},
     "output_type": "display_data"
    }
   ],
   "source": [
    "# Create environment selection widget\n",
    "if config:\n",
    "    env_options = [(env_data['name'], env_key) for env_key, env_data in config['environments'].items()]\n",
    "    \n",
    "    environment_selector = widgets.Dropdown(\n",
    "        options=env_options,\n",
    "        description='Environment:',\n",
    "        style={'description_width': 'initial'},\n",
    "        layout=widgets.Layout(width='300px')\n",
    "    )\n",
    "    \n",
    "    display(environment_selector)\n",
    "    \n",
    "    # Global variables to store client and selected environment\n",
    "    splunk_client = None\n",
    "    selected_env_config = None\n",
    "else:\n",
    "    print(\"Cannot create environment selector without configuration.\")"
   ]
  },
  {
   "cell_type": "code",
   "execution_count": 6,
   "metadata": {},
   "outputs": [
    {
     "data": {
      "application/vnd.jupyter.widget-view+json": {
       "model_id": "d433cc9b6661475c92ec9d751b5c5ad5",
       "version_major": 2,
       "version_minor": 0
      },
      "text/plain": [
       "Button(button_style='primary', description='Initialize Connection', layout=Layout(width='200px'), style=Button…"
      ]
     },
     "metadata": {},
     "output_type": "display_data"
    }
   ],
   "source": [
    "# Initialize Splunk client with selected environment\n",
    "def initialize_splunk_client():\n",
    "    global splunk_client, selected_env_config\n",
    "    \n",
    "    if not config:\n",
    "        print(\"❌ No configuration available\")\n",
    "        return\n",
    "    \n",
    "    env_key = environment_selector.value\n",
    "    selected_env_config = config['environments'][env_key]\n",
    "    \n",
    "    # Validate required configuration\n",
    "    if selected_env_config.get('token') in ['YOUR-DEV-TOKEN-HERE', 'YOUR-STAGING-TOKEN-HERE', 'YOUR-PROD-TOKEN-HERE']:\n",
    "        print(f\"❌ Please update the token for {selected_env_config['name']} environment in config/environments.json\")\n",
    "        return\n",
    "    \n",
    "    print(f\"Initializing connection to {selected_env_config['name']} environment...\")\n",
    "    \n",
    "    try:\n",
    "        splunk_client = SplunkHECClient(\n",
    "            base_url=selected_env_config['hec_url'],\n",
    "            token=selected_env_config.get('token'),\n",
    "            username=selected_env_config.get('username'),\n",
    "            password=selected_env_config.get('password'),\n",
    "            verify_ssl=selected_env_config.get('verify_ssl', True)\n",
    "        )\n",
    "        \n",
    "        print(\"✅ Splunk client initialized\")\n",
    "        print(f\"Environment: {selected_env_config['name']}\")\n",
    "        print(f\"URL: {selected_env_config['hec_url']}\")\n",
    "        print(f\"Indices: {', '.join(selected_env_config['indices'])}\")\n",
    "        \n",
    "        # Show authentication method\n",
    "        if selected_env_config.get('username'):\n",
    "            print(f\"Authentication: Username/Password ({selected_env_config['username']})\")\n",
    "        elif selected_env_config.get('token'):\n",
    "            print(f\"Authentication: HEC Token\")\n",
    "        \n",
    "    except Exception as e:\n",
    "        print(f\"❌ Failed to initialize Splunk client: {str(e)}\")\n",
    "        splunk_client = None\n",
    "\n",
    "# Button to initialize connection\n",
    "init_button = widgets.Button(\n",
    "    description='Initialize Connection',\n",
    "    button_style='primary',\n",
    "    layout=widgets.Layout(width='200px')\n",
    ")\n",
    "init_button.on_click(lambda x: initialize_splunk_client())\n",
    "\n",
    "display(init_button)"
   ]
  },
  {
   "cell_type": "markdown",
   "metadata": {},
   "source": [
    "## 3. Connection Validation"
   ]
  },
  {
   "cell_type": "code",
   "execution_count": 8,
   "metadata": {},
   "outputs": [
    {
     "data": {
      "application/vnd.jupyter.widget-view+json": {
       "model_id": "40023f1da6384d5880ed0286066db809",
       "version_major": 2,
       "version_minor": 0
      },
      "text/plain": [
       "Button(button_style='info', description='Test Connection', layout=Layout(width='200px'), style=ButtonStyle())"
      ]
     },
     "metadata": {},
     "output_type": "display_data"
    }
   ],
   "source": [
    "# Test Splunk connection\n",
    "def test_connection():\n",
    "    if not splunk_client:\n",
    "        print(\"❌ Please initialize Splunk client first\")\n",
    "        return\n",
    "    \n",
    "    print(\"Testing connection...\")\n",
    "    \n",
    "    try:\n",
    "        result = splunk_client.validate_connection()\n",
    "        \n",
    "        if result['valid']:\n",
    "            print(\"✅ Connection successful!\")\n",
    "            print(f\"Status: {result['message']}\")\n",
    "        else:\n",
    "            print(\"❌ Connection failed\")\n",
    "            print(f\"Error: {result['message']}\")\n",
    "            print(f\"Status Code: {result['status_code']}\")\n",
    "            \n",
    "    except Exception as e:\n",
    "        print(f\"❌ Connection test failed: {str(e)}\")\n",
    "\n",
    "# Button to test connection\n",
    "test_button = widgets.Button(\n",
    "    description='Test Connection',\n",
    "    button_style='info',\n",
    "    layout=widgets.Layout(width='200px')\n",
    ")\n",
    "test_button.on_click(lambda x: test_connection())\n",
    "\n",
    "display(test_button)"
   ]
  },
  {
   "cell_type": "markdown",
   "metadata": {},
   "source": [
    "## 4. Query Configuration"
   ]
  },
  {
   "cell_type": "code",
   "execution_count": 9,
   "metadata": {},
   "outputs": [
    {
     "name": "stdout",
     "output_type": "stream",
     "text": [
      "✅ Query builder and visualizer initialized\n"
     ]
    }
   ],
   "source": [
    "# Initialize query builder and visualizer\n",
    "query_builder = VendorQueryBuilder()\n",
    "visualizer = VendorVisualizer()\n",
    "\n",
    "print(\"✅ Query builder and visualizer initialized\")"
   ]
  },
  {
   "cell_type": "code",
   "execution_count": 10,
   "metadata": {},
   "outputs": [
    {
     "data": {
      "application/vnd.jupyter.widget-view+json": {
       "model_id": "7c3cca6aa39644a0856edbc38c52de1d",
       "version_major": 2,
       "version_minor": 0
      },
      "text/plain": [
       "VBox(children=(HTML(value='<h3>Query Configuration</h3>'), Dropdown(description='Time Range:', index=1, layout…"
      ]
     },
     "metadata": {},
     "output_type": "display_data"
    }
   ],
   "source": [
    "# Query configuration widgets\n",
    "time_range_widget = widgets.Dropdown(\n",
    "    options=['-1h@h', '-24h@h', '-7d@d', '-30d@d', '-90d@d'],\n",
    "    value='-24h@h',\n",
    "    description='Time Range:',\n",
    "    style={'description_width': 'initial'},\n",
    "    layout=widgets.Layout(width='300px')\n",
    ")\n",
    "\n",
    "query_type_widget = widgets.Dropdown(\n",
    "    options=[('Basic Vendor Query', 'basic'), ('Gap Analysis', 'gap'), ('Custom Query', 'custom')],\n",
    "    value='basic',\n",
    "    description='Query Type:',\n",
    "    style={'description_width': 'initial'},\n",
    "    layout=widgets.Layout(width='300px')\n",
    ")\n",
    "\n",
    "max_results_widget = widgets.IntSlider(\n",
    "    value=5000,\n",
    "    min=100,\n",
    "    max=50000,\n",
    "    step=500,\n",
    "    description='Max Results:',\n",
    "    style={'description_width': 'initial'},\n",
    "    layout=widgets.Layout(width='400px')\n",
    ")\n",
    "\n",
    "# Custom query text area\n",
    "custom_query_widget = widgets.Textarea(\n",
    "    placeholder='Enter custom SPL query here...',\n",
    "    description='Custom Query:',\n",
    "    layout=widgets.Layout(width='100%', height='150px'),\n",
    "    style={'description_width': 'initial'}\n",
    ")\n",
    "\n",
    "display(widgets.VBox([\n",
    "    widgets.HTML(\"<h3>Query Configuration</h3>\"),\n",
    "    time_range_widget,\n",
    "    query_type_widget,\n",
    "    max_results_widget\n",
    "]))"
   ]
  },
  {
   "cell_type": "code",
   "execution_count": 11,
   "metadata": {},
   "outputs": [
    {
     "data": {
      "application/vnd.jupyter.widget-view+json": {
       "model_id": "4378318a92e54102af0c49c29f27ef0b",
       "version_major": 2,
       "version_minor": 0
      },
      "text/plain": [
       "HTML(value='<p>Using built-in query templates</p>')"
      ]
     },
     "metadata": {},
     "output_type": "display_data"
    }
   ],
   "source": [
    "# Show/hide custom query widget based on selection\n",
    "def update_query_options(change):\n",
    "    clear_output(wait=True)\n",
    "    \n",
    "    if change['new'] == 'custom':\n",
    "        display(widgets.VBox([\n",
    "            widgets.HTML(\"<h4>Custom Query</h4>\"),\n",
    "            widgets.HTML(\"<p>Enter your custom SPL query below:</p>\"),\n",
    "            custom_query_widget\n",
    "        ]))\n",
    "    else:\n",
    "        display(widgets.HTML(\"<p>Using built-in query templates</p>\"))\n",
    "\n",
    "query_type_widget.observe(update_query_options, names='value')\n",
    "\n",
    "# Initial display\n",
    "update_query_options({'new': query_type_widget.value})"
   ]
  },
  {
   "cell_type": "markdown",
   "metadata": {},
   "source": [
    "## 5. Query Execution"
   ]
  },
  {
   "cell_type": "code",
   "execution_count": 12,
   "metadata": {},
   "outputs": [
    {
     "data": {
      "application/vnd.jupyter.widget-view+json": {
       "model_id": "88bfe5a139a24a358f6c38df95030471",
       "version_major": 2,
       "version_minor": 0
      },
      "text/plain": [
       "Button(button_style='success', description='Execute Query', layout=Layout(width='200px'), style=ButtonStyle())"
      ]
     },
     "metadata": {},
     "output_type": "display_data"
    }
   ],
   "source": [
    "# Global variables to store results\n",
    "current_results = None\n",
    "gap_analysis_results = None\n",
    "query_stats = {}\n",
    "\n",
    "def execute_vendor_query():\n",
    "    global current_results, gap_analysis_results, query_stats\n",
    "    \n",
    "    if not splunk_client or not selected_env_config:\n",
    "        print(\"❌ Please initialize Splunk client first\")\n",
    "        return\n",
    "    \n",
    "    print(\"🔍 Executing vendor query...\")\n",
    "    \n",
    "    try:\n",
    "        query_type = query_type_widget.value\n",
    "        time_range = time_range_widget.value\n",
    "        indices = selected_env_config['indices']\n",
    "        \n",
    "        # Build query based on type\n",
    "        if query_type == 'basic':\n",
    "            query = query_builder.build_basic_vendor_query(indices, time_range)\n",
    "        elif query_type == 'gap':\n",
    "            expected_vendors = config.get('expected_vendors', [])\n",
    "            query = query_builder.build_gap_analysis_query(indices, expected_vendors, time_range)\n",
    "        elif query_type == 'custom':\n",
    "            query = custom_query_widget.value.strip()\n",
    "            if not query:\n",
    "                print(\"❌ Please enter a custom query\")\n",
    "                return\n",
    "        else:\n",
    "            print(\"❌ Invalid query type\")\n",
    "            return\n",
    "        \n",
    "        print(f\"Query Type: {query_type.title()}\")\n",
    "        print(f\"Time Range: {time_range}\")\n",
    "        print(f\"Indices: {', '.join(indices)}\")\n",
    "        print(\"\\n📋 Generated SPL Query:\")\n",
    "        print(\"-\" * 50)\n",
    "        print(query)\n",
    "        print(\"-\" * 50)\n",
    "        \n",
    "        # Execute query with pagination\n",
    "        print(\"\\n⏳ Executing query (this may take a few minutes)...\")\n",
    "        \n",
    "        results_df = splunk_client.paginate_results(\n",
    "            query=query,\n",
    "            page_size=1000,\n",
    "            max_results=max_results_widget.value\n",
    "        )\n",
    "        \n",
    "        if results_df.empty:\n",
    "            print(\"⚠️ No results found\")\n",
    "            current_results = pd.DataFrame()\n",
    "            return\n",
    "        \n",
    "        # Process results\n",
    "        current_results = query_builder.extract_vendor_products(results_df)\n",
    "        \n",
    "        # Generate gap analysis if needed\n",
    "        if query_type in ['basic', 'gap']:\n",
    "            expected_vendors = config.get('expected_vendors', [])\n",
    "            gap_analysis_results = query_builder.identify_coverage_gaps(current_results, expected_vendors)\n",
    "        \n",
    "        # Generate summary statistics\n",
    "        query_stats = query_builder.generate_summary_stats(current_results)\n",
    "        \n",
    "        print(f\"\\n✅ Query completed successfully!\")\n",
    "        print(f\"📊 Results: {len(current_results)} vendors found\")\n",
    "        print(f\"📈 Total events: {query_stats['total_events']:,}\")\n",
    "        \n",
    "        if query_stats['top_vendor'] != 'None':\n",
    "            print(f\"🔝 Top vendor: {query_stats['top_vendor']} ({query_stats['top_vendor_count']:,} events)\")\n",
    "        \n",
    "        # Display first few results\n",
    "        print(\"\\n📋 First 10 results:\")\n",
    "        display(current_results.head(10))\n",
    "        \n",
    "    except Exception as e:\n",
    "        print(f\"❌ Query execution failed: {str(e)}\")\n",
    "        current_results = None\n",
    "\n",
    "# Button to execute query\n",
    "execute_button = widgets.Button(\n",
    "    description='Execute Query',\n",
    "    button_style='success',\n",
    "    layout=widgets.Layout(width='200px')\n",
    ")\n",
    "execute_button.on_click(lambda x: execute_vendor_query())\n",
    "\n",
    "display(execute_button)"
   ]
  },
  {
   "cell_type": "markdown",
   "metadata": {},
   "source": [
    "## 6. Data Visualization"
   ]
  },
  {
   "cell_type": "code",
   "execution_count": 13,
   "metadata": {},
   "outputs": [
    {
     "data": {
      "application/vnd.jupyter.widget-view+json": {
       "model_id": "b3b45687cf534522a57cf86ba5e36cc3",
       "version_major": 2,
       "version_minor": 0
      },
      "text/plain": [
       "VBox(children=(HTML(value='<h3>Visualizations</h3>'), HBox(children=(Button(button_style='info', description='…"
      ]
     },
     "metadata": {},
     "output_type": "display_data"
    }
   ],
   "source": [
    "# Vendor Distribution Visualization\n",
    "def show_vendor_distribution():\n",
    "    if current_results is None or current_results.empty:\n",
    "        print(\"❌ No results available. Please execute a query first.\")\n",
    "        return\n",
    "    \n",
    "    fig = visualizer.create_vendor_distribution_pie(current_results, \"Vendor Product Distribution\")\n",
    "    fig.show()\n",
    "\n",
    "# Gap Analysis Visualization\n",
    "def show_gap_analysis():\n",
    "    if gap_analysis_results is None or gap_analysis_results.empty:\n",
    "        print(\"❌ No gap analysis results available. Please execute a basic or gap query first.\")\n",
    "        return\n",
    "    \n",
    "    fig = visualizer.create_gap_analysis_chart(gap_analysis_results, \"Vendor Coverage Gap Analysis\")\n",
    "    fig.show()\n",
    "\n",
    "# Category Breakdown Visualization\n",
    "def show_category_breakdown():\n",
    "    if current_results is None or current_results.empty:\n",
    "        print(\"❌ No results available. Please execute a query first.\")\n",
    "        return\n",
    "    \n",
    "    fig = visualizer.create_category_breakdown(current_results, \"Vendor Categories\")\n",
    "    fig.show()\n",
    "\n",
    "# Summary Dashboard\n",
    "def show_summary_dashboard():\n",
    "    if current_results is None or current_results.empty:\n",
    "        print(\"❌ No results available. Please execute a query first.\")\n",
    "        return\n",
    "    \n",
    "    fig = visualizer.create_summary_dashboard(\n",
    "        current_results, \n",
    "        gap_analysis_results if gap_analysis_results is not None else pd.DataFrame(), \n",
    "        query_stats\n",
    "    )\n",
    "    fig.show()\n",
    "\n",
    "# Visualization buttons\n",
    "viz_buttons = widgets.HBox([\n",
    "    widgets.Button(description='Vendor Distribution', button_style='info'),\n",
    "    widgets.Button(description='Gap Analysis', button_style='warning'),\n",
    "    widgets.Button(description='Categories', button_style='info'),\n",
    "    widgets.Button(description='Dashboard', button_style='success')\n",
    "])\n",
    "\n",
    "# Connect button events\n",
    "viz_buttons.children[0].on_click(lambda x: show_vendor_distribution())\n",
    "viz_buttons.children[1].on_click(lambda x: show_gap_analysis())\n",
    "viz_buttons.children[2].on_click(lambda x: show_category_breakdown())\n",
    "viz_buttons.children[3].on_click(lambda x: show_summary_dashboard())\n",
    "\n",
    "display(widgets.VBox([\n",
    "    widgets.HTML(\"<h3>Visualizations</h3>\"),\n",
    "    viz_buttons\n",
    "]))"
   ]
  },
  {
   "cell_type": "markdown",
   "metadata": {},
   "source": [
    "## 7. Data Export"
   ]
  },
  {
   "cell_type": "code",
   "execution_count": null,
   "metadata": {},
   "outputs": [],
   "source": [
    "# Export functionality\n",
    "def export_data(format_type):\n",
    "    if current_results is None or current_results.empty:\n",
    "        print(\"❌ No results available. Please execute a query first.\")\n",
    "        return\n",
    "    \n",
    "    try:\n",
    "        timestamp = pd.Timestamp.now().strftime(\"%Y%m%d_%H%M%S\")\n",
    "        env_name = selected_env_config['name'].lower().replace(' ', '_')\n",
    "        filename = f\"vendor_analysis_{env_name}_{timestamp}\"\n",
    "        \n",
    "        if format_type == 'csv':\n",
    "            file_path = visualizer.export_to_csv(current_results, filename)\n",
    "            print(f\"✅ Data exported to: {file_path}\")\n",
    "        \n",
    "        elif format_type == 'json':\n",
    "            file_path = visualizer.export_to_json(current_results, filename)\n",
    "            print(f\"✅ Data exported to: {file_path}\")\n",
    "        \n",
    "        elif format_type == 'html_charts':\n",
    "            # Export multiple charts\n",
    "            charts_exported = []\n",
    "            \n",
    "            # Vendor distribution\n",
    "            fig1 = visualizer.create_vendor_distribution_pie(current_results)\n",
    "            chart1_path = visualizer.export_chart_html(fig1, f\"{filename}_distribution\")\n",
    "            charts_exported.append(chart1_path)\n",
    "            \n",
    "            # Category breakdown\n",
    "            fig2 = visualizer.create_category_breakdown(current_results)\n",
    "            chart2_path = visualizer.export_chart_html(fig2, f\"{filename}_categories\")\n",
    "            charts_exported.append(chart2_path)\n",
    "            \n",
    "            # Gap analysis if available\n",
    "            if gap_analysis_results is not None and not gap_analysis_results.empty:\n",
    "                fig3 = visualizer.create_gap_analysis_chart(gap_analysis_results)\n",
    "                chart3_path = visualizer.export_chart_html(fig3, f\"{filename}_gaps\")\n",
    "                charts_exported.append(chart3_path)\n",
    "            \n",
    "            print(f\"✅ Charts exported:\")\n",
    "            for path in charts_exported:\n",
    "                print(f\"   📊 {path}\")\n",
    "        \n",
    "        # Also export gap analysis if available\n",
    "        if gap_analysis_results is not None and not gap_analysis_results.empty and format_type in ['csv', 'json']:\n",
    "            gap_filename = f\"gap_analysis_{env_name}_{timestamp}\"\n",
    "            if format_type == 'csv':\n",
    "                gap_path = visualizer.export_to_csv(gap_analysis_results, gap_filename)\n",
    "            else:\n",
    "                gap_path = visualizer.export_to_json(gap_analysis_results, gap_filename)\n",
    "            print(f\"✅ Gap analysis exported to: {gap_path}\")\n",
    "        \n",
    "    except Exception as e:\n",
    "        print(f\"❌ Export failed: {str(e)}\")\n",
    "\n",
    "# Export buttons\n",
    "export_buttons = widgets.HBox([\n",
    "    widgets.Button(description='Export CSV', button_style='primary'),\n",
    "    widgets.Button(description='Export JSON', button_style='primary'),\n",
    "    widgets.Button(description='Export Charts (HTML)', button_style='primary')\n",
    "])\n",
    "\n",
    "# Connect export button events\n",
    "export_buttons.children[0].on_click(lambda x: export_data('csv'))\n",
    "export_buttons.children[1].on_click(lambda x: export_data('json'))\n",
    "export_buttons.children[2].on_click(lambda x: export_data('html_charts'))\n",
    "\n",
    "display(widgets.VBox([\n",
    "    widgets.HTML(\"<h3>Data Export</h3>\"),\n",
    "    widgets.HTML(\"<p>Export your analysis results in various formats:</p>\"),\n",
    "    export_buttons\n",
    "]))"
   ]
  },
  {
   "cell_type": "markdown",
   "metadata": {},
   "source": [
    "## 8. Summary and Statistics"
   ]
  },
  {
   "cell_type": "code",
   "execution_count": null,
   "metadata": {},
   "outputs": [],
   "source": [
    "# Display comprehensive summary\n",
    "def show_analysis_summary():\n",
    "    if not query_stats:\n",
    "        print(\"❌ No analysis statistics available. Please execute a query first.\")\n",
    "        return\n",
    "    \n",
    "    print(\"📊 ANALYSIS SUMMARY\")\n",
    "    print(\"=\" * 50)\n",
    "    \n",
    "    # Environment info\n",
    "    if selected_env_config:\n",
    "        print(f\"🌐 Environment: {selected_env_config['name']}\")\n",
    "        print(f\"📍 Indices: {', '.join(selected_env_config['indices'])}\")\n",
    "        print(f\"⏰ Time Range: {time_range_widget.value}\")\n",
    "        print()\n",
    "    \n",
    "    # Summary statistics\n",
    "    print(f\"🔍 Total Vendors Found: {query_stats['total_vendors']}\")\n",
    "    print(f\"📈 Total Events Analyzed: {query_stats['total_events']:,}\")\n",
    "    \n",
    "    if query_stats['top_vendor'] != 'None':\n",
    "        print(f\"🔝 Top Vendor: {query_stats['top_vendor']}\")\n",
    "        print(f\"   📊 Events: {query_stats['top_vendor_count']:,}\")\n",
    "    \n",
    "    unknown_pct = query_stats.get('unknown_percentage', 0)\n",
    "    if unknown_pct > 0:\n",
    "        print(f\"❓ Unknown Events: {unknown_pct:.1f}%\")\n",
    "    \n",
    "    print()\n",
    "    \n",
    "    # Category breakdown\n",
    "    categories = query_stats.get('categories', {})\n",
    "    if categories:\n",
    "        print(\"📂 CATEGORY BREAKDOWN:\")\n",
    "        for category, count in sorted(categories.items(), key=lambda x: x[1], reverse=True):\n",
    "            percentage = (count / query_stats['total_events']) * 100\n",
    "            print(f\"   {category}: {count:,} events ({percentage:.1f}%)\")\n",
    "        print()\n",
    "    \n",
    "    # Gap analysis summary\n",
    "    if gap_analysis_results is not None and not gap_analysis_results.empty:\n",
    "        print(\"🔍 GAP ANALYSIS SUMMARY:\")\n",
    "        missing_vendors = gap_analysis_results[gap_analysis_results['status'] == 'Missing']\n",
    "        present_vendors = gap_analysis_results[gap_analysis_results['status'] == 'Present']\n",
    "        \n",
    "        print(f\"   ✅ Present: {len(present_vendors)} vendors\")\n",
    "        print(f\"   ❌ Missing: {len(missing_vendors)} vendors\")\n",
    "        \n",
    "        if len(missing_vendors) > 0:\n",
    "            print(f\"   📋 Missing Vendors: {', '.join(missing_vendors['vendor_product'])}\")\n",
    "        \n",
    "        high_severity = gap_analysis_results[gap_analysis_results['gap_severity'] == 'High']\n",
    "        if len(high_severity) > 0:\n",
    "            print(f\"   🚨 High Severity Gaps: {len(high_severity)}\")\n",
    "        \n",
    "        print()\n",
    "    \n",
    "    # Recommendations\n",
    "    print(\"💡 RECOMMENDATIONS:\")\n",
    "    if query_stats['total_vendors'] == 0:\n",
    "        print(\"   - No vendors detected. Consider adjusting time range or indices.\")\n",
    "    elif unknown_pct > 50:\n",
    "        print(\"   - High percentage of unknown events. Consider adding custom vendor patterns.\")\n",
    "    \n",
    "    if gap_analysis_results is not None:\n",
    "        missing_count = len(gap_analysis_results[gap_analysis_results['status'] == 'Missing'])\n",
    "        if missing_count > 0:\n",
    "            print(f\"   - {missing_count} expected vendors are missing from logs.\")\n",
    "            print(\"   - Investigate data ingestion for missing vendor products.\")\n",
    "    \n",
    "    print(\"   - Export results for further analysis and reporting.\")\n",
    "    print(\"   - Consider scheduling regular gap analysis for continuous monitoring.\")\n",
    "\n",
    "# Summary button\n",
    "summary_button = widgets.Button(\n",
    "    description='Show Analysis Summary',\n",
    "    button_style='info',\n",
    "    layout=widgets.Layout(width='250px')\n",
    ")\n",
    "summary_button.on_click(lambda x: show_analysis_summary())\n",
    "\n",
    "display(summary_button)"
   ]
  },
  {
   "cell_type": "markdown",
   "metadata": {},
   "source": [
    "## 9. Troubleshooting and Help"
   ]
  },
  {
   "cell_type": "code",
   "execution_count": null,
   "metadata": {},
   "outputs": [],
   "source": [
    "# Help and troubleshooting information\n",
    "help_html = \"\"\"\n",
    "<div style=\"background-color: #f0f0f0; padding: 20px; border-radius: 5px;\">\n",
    "<h3>🆘 Troubleshooting Guide</h3>\n",
    "\n",
    "<h4>Common Issues:</h4>\n",
    "<ul>\n",
    "    <li><strong>Connection Failed:</strong>\n",
    "        <ul>\n",
    "            <li>Check if HEC tokens are properly configured in config/environments.json</li>\n",
    "            <li>Verify Splunk URL and port accessibility</li>\n",
    "            <li>Check SSL verification settings</li>\n",
    "        </ul>\n",
    "    </li>\n",
    "    \n",
    "    <li><strong>No Results Found:</strong>\n",
    "        <ul>\n",
    "            <li>Extend time range (try -7d@d or -30d@d)</li>\n",
    "            <li>Verify selected indices contain relevant data</li>\n",
    "            <li>Check vendor patterns in query builder</li>\n",
    "        </ul>\n",
    "    </li>\n",
    "    \n",
    "    <li><strong>Query Timeout:</strong>\n",
    "        <ul>\n",
    "            <li>Reduce time range</li>\n",
    "            <li>Lower max results limit</li>\n",
    "            <li>Add more specific filters to custom queries</li>\n",
    "        </ul>\n",
    "    </li>\n",
    "</ul>\n",
    "\n",
    "<h4>Configuration Tips:</h4>\n",
    "<ul>\n",
    "    <li>Update HEC tokens in config/environments.json before use</li>\n",
    "    <li>Add custom vendor patterns for better detection</li>\n",
    "    <li>Modify expected_vendors list for gap analysis</li>\n",
    "    <li>Adjust query_settings for performance optimization</li>\n",
    "</ul>\n",
    "\n",
    "<h4>Best Practices:</h4>\n",
    "<ul>\n",
    "    <li>Start with shorter time ranges for initial testing</li>\n",
    "    <li>Test connection before running large queries</li>\n",
    "    <li>Export results regularly for analysis</li>\n",
    "    <li>Monitor query performance and adjust as needed</li>\n",
    "</ul>\n",
    "</div>\n",
    "\"\"\"\n",
    "\n",
    "display(HTML(help_html))"
   ]
  },
  {
   "cell_type": "markdown",
   "metadata": {},
   "source": [
    "---\n",
    "\n",
    "## 🎉 Analysis Complete!\n",
    "\n",
    "You have successfully completed the Splunk vendor product analysis. Here's what you can do next:\n",
    "\n",
    "1. **📊 Review Results**: Check the visualizations and summary statistics above\n",
    "2. **💾 Export Data**: Use the export buttons to save results in CSV, JSON, or HTML formats\n",
    "3. **🔍 Dive Deeper**: Run additional queries with different time ranges or custom patterns\n",
    "4. **📋 Share Findings**: Export charts and data for reporting and documentation\n",
    "5. **🔄 Monitor Regularly**: Schedule regular runs to track vendor coverage over time\n",
    "\n",
    "For questions or issues, refer to the troubleshooting guide above or check the project documentation.\n"
   ]
  }
 ],
 "metadata": {
  "kernelspec": {
   "display_name": "Python 3 (ipykernel)",
   "language": "python",
   "name": "python3"
  },
  "language_info": {
   "codemirror_mode": {
    "name": "ipython",
    "version": 3
   },
   "file_extension": ".py",
   "mimetype": "text/x-python",
   "name": "python",
   "nbconvert_exporter": "python",
   "pygments_lexer": "ipython3",
   "version": "3.13.3"
  }
 },
 "nbformat": 4,
 "nbformat_minor": 4
}
